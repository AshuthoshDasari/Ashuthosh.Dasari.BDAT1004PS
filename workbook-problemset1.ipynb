{
 "cells": [
  {
   "cell_type": "code",
   "execution_count": 163,
   "id": "ca495afe",
   "metadata": {},
   "outputs": [],
   "source": [
    "import pandas as pd\n",
    "import numpy as np\n",
    "import re\n",
    "import collections\n",
    "import json"
   ]
  },
  {
   "cell_type": "code",
   "execution_count": 69,
   "id": "3f70cca9",
   "metadata": {},
   "outputs": [
    {
     "ename": "NameError",
     "evalue": "name 'bldcount' is not defined",
     "output_type": "error",
     "traceback": [
      "\u001b[1;31m---------------------------------------------------------------------------\u001b[0m",
      "\u001b[1;31mNameError\u001b[0m                                 Traceback (most recent call last)",
      "\u001b[1;32m~\\AppData\\Local\\Temp/ipykernel_47264/2934662246.py\u001b[0m in \u001b[0;36m<module>\u001b[1;34m\u001b[0m\n\u001b[1;32m----> 1\u001b[1;33m \u001b[0mbldcount\u001b[0m\u001b[1;33m(\u001b[0m\u001b[1;34m'bloodtype1.txt'\u001b[0m\u001b[1;33m)\u001b[0m\u001b[1;33m\u001b[0m\u001b[1;33m\u001b[0m\u001b[0m\n\u001b[0m",
      "\u001b[1;31mNameError\u001b[0m: name 'bldcount' is not defined"
     ]
    }
   ],
   "source": [
    "bldcount('bloodtype1.txt') "
   ]
  },
  {
   "cell_type": "code",
   "execution_count": 59,
   "id": "77cef7d5",
   "metadata": {},
   "outputs": [
    {
     "ename": "SyntaxError",
     "evalue": "invalid syntax (Temp/ipykernel_47264/3251952822.py, line 1)",
     "output_type": "error",
     "traceback": [
      "\u001b[1;36m  File \u001b[1;32m\"C:\\Users\\ashut\\AppData\\Local\\Temp/ipykernel_47264/3251952822.py\"\u001b[1;36m, line \u001b[1;32m1\u001b[0m\n\u001b[1;33m    def bldcount()\u001b[0m\n\u001b[1;37m                  ^\u001b[0m\n\u001b[1;31mSyntaxError\u001b[0m\u001b[1;31m:\u001b[0m invalid syntax\n"
     ]
    }
   ],
   "source": [
    "def bldcount()"
   ]
  },
  {
   "cell_type": "code",
   "execution_count": 105,
   "id": "8b978cd3",
   "metadata": {},
   "outputs": [
    {
     "name": "stdout",
     "output_type": "stream",
     "text": [
      "AB AB B O A A AB O AB A O O A A A O O O AB O A A A A A AB AB A AB O AB O A O O O AB O AB AB AB A A O \n",
      "\n"
     ]
    }
   ],
   "source": [
    "fileObject = open(\"bloodtype2.txt\", \"r\")\n",
    "string = fileObject.read()\n",
    "print(string)\n",
    "string = [string]"
   ]
  },
  {
   "cell_type": "code",
   "execution_count": 106,
   "id": "320d1326",
   "metadata": {},
   "outputs": [
    {
     "name": "stdout",
     "output_type": "stream",
     "text": [
      "['AB  AB  B  O  A  A  AB  O  AB  A  O  O  A  A  A  O  O  O  AB  O  A  A  A  A  A  AB  AB  A  AB  O  AB  O  A  O  O  O  AB  O  AB  AB  AB  A  A  O  ']\n"
     ]
    }
   ],
   "source": [
    "newStrings = []\n",
    "for s in string:\n",
    "    newStrings.append(re.sub('\\s+', '  ', s))\n",
    "print(newStrings)\n"
   ]
  },
  {
   "cell_type": "code",
   "execution_count": 170,
   "id": "dfa636d3",
   "metadata": {},
   "outputs": [
    {
     "data": {
      "text/plain": [
       "\"AB','AB','B','O','A','A','AB','O','AB','A','O','O','A','A','A','O','O','O','AB','O','A','A','A','A','A','AB','AB','A','AB','O','AB','O','A','O','O','O','AB','O','AB','AB','AB','A','A','O\""
      ]
     },
     "execution_count": 170,
     "metadata": {},
     "output_type": "execute_result"
    }
   ],
   "source": [
    "mega_list = []\n",
    "new_list = [re.sub(\"\\s+\", \"','\", newStrings[0].strip())]\n",
    "for each_c in new_list:\n",
    "    mega_list.append(each_c)\n",
    "mega_list[0]"
   ]
  },
  {
   "cell_type": "code",
   "execution_count": 190,
   "id": "387f5ec5",
   "metadata": {},
   "outputs": [
    {
     "data": {
      "text/plain": [
       "'AB\",\"AB\",\"B\",\"O\",\"A\",\"A\",\"AB\",\"O\",\"AB\",\"A\",\"O\",\"O\",\"A\",\"A\",\"A\",\"O\",\"O\",\"O\",\"AB\",\"O\",\"A\",\"A\",\"A\",\"A\",\"A\",\"AB\",\"AB\",\"A\",\"AB\",\"O\",\"AB\",\"O\",\"A\",\"O\",\"O\",\"O\",\"AB\",\"O\",\"AB\",\"AB\",\"AB\",\"A\",\"A\",\"O'"
      ]
     },
     "execution_count": 190,
     "metadata": {},
     "output_type": "execute_result"
    }
   ],
   "source": [
    "changed = str(mega_list[0]).replace(\"''\", '\"')\n",
    "changed\n",
    "changed_plus = str(changed).replace(\"'\", '\"')\n",
    "changed_plus"
   ]
  },
  {
   "cell_type": "code",
   "execution_count": null,
   "id": "0f10d536",
   "metadata": {},
   "outputs": [],
   "source": []
  },
  {
   "cell_type": "code",
   "execution_count": 184,
   "id": "734d00e2",
   "metadata": {},
   "outputs": [
    {
     "data": {
      "text/plain": [
       "{'patients of blood type AB': 13,\n",
       " 'patients of blood type B': 1,\n",
       " 'patients of blood type O': 15,\n",
       " 'patients of blood type A': 15}"
      ]
     },
     "execution_count": 184,
     "metadata": {},
     "output_type": "execute_result"
    }
   ],
   "source": [
    "\n",
    "item_list = ['AB','AB','B','O','A','A','AB','O','AB','A','O','O','A','A','A','O','O','O','AB',\n",
    "             'O','A','A','A','A','A','AB','AB','A','AB','O','AB','O','A','O','O','O','AB','O',\n",
    "             'AB','AB','AB','A','A','O']\n",
    "\n",
    "occ_dict = {}\n",
    "\n",
    "for item in item_list:\n",
    "    if item not in occ_dict:\n",
    "        occ_dict[item] = 1\n",
    "    else:\n",
    "        occ_dict[item] +=1\n",
    "d1 = {'AB':'patients of blood type AB', 'B':'patients of blood type B',\n",
    "      'O':'patients of blood type O', 'A': 'patients of blood type A'}\n",
    "result = dict((d1[key], value) for (key, value) in occ_dict.items())\n",
    "result"
   ]
  },
  {
   "cell_type": "code",
   "execution_count": null,
   "id": "a7a79f0e",
   "metadata": {},
   "outputs": [],
   "source": [
    "import pandas as pd\n",
    "import numpy as np\n",
    "import re\n",
    "import json\n",
    "\n",
    "\n",
    "def bldcount(txt):\n",
    "    fileObject = open(txt, \"r\")\n",
    "    string = [fileObject.read()]\n",
    "    newStrings = []\n",
    "    for s in string:\n",
    "        newStrings.append(re.sub('\\s+', '  ', s))\n",
    "    mega_list = []\n",
    "    new_list = [re.sub(\"\\s+\", \"','\", newStrings[0].strip())]\n",
    "    for each_c in new_list:\n",
    "        mega_list.append(each_c)\n",
    "    mega_list[0]\n",
    "    occ_dict = {}\n",
    "    for item in mega_list:\n",
    "        if item not in occ_dict:\n",
    "            occ_dict[item] = 1\n",
    "        else:\n",
    "            occ_dict[item] +=1\n",
    "    d1 = {'AB':'patients of blood type AB', 'B':'patients of blood type B',\n",
    "          'O':'patients of blood type O', 'A': 'patients of blood type A'}\n",
    "    result = dict((d1[key], value) for (key, value) in occ_dict.items())\n",
    "    return result"
   ]
  },
  {
   "cell_type": "code",
   "execution_count": 185,
   "id": "e13af9f6",
   "metadata": {},
   "outputs": [
    {
     "data": {
      "text/plain": [
       "{'patients of blood type AB': 13,\n",
       " 'patients of blood type B': 1,\n",
       " 'patients of blood type O': 15,\n",
       " 'patients of blood type A': 15}"
      ]
     },
     "execution_count": 185,
     "metadata": {},
     "output_type": "execute_result"
    }
   ],
   "source": [
    "def bldcount(\"bloodtype2.txt\"):"
   ]
  },
  {
   "cell_type": "code",
   "execution_count": 191,
   "id": "62af136c",
   "metadata": {},
   "outputs": [],
   "source": [
    "#######################################################################"
   ]
  },
  {
   "cell_type": "code",
   "execution_count": 265,
   "id": "eafb5125",
   "metadata": {},
   "outputs": [
    {
     "data": {
      "text/html": [
       "<div>\n",
       "<style scoped>\n",
       "    .dataframe tbody tr th:only-of-type {\n",
       "        vertical-align: middle;\n",
       "    }\n",
       "\n",
       "    .dataframe tbody tr th {\n",
       "        vertical-align: top;\n",
       "    }\n",
       "\n",
       "    .dataframe thead th {\n",
       "        text-align: right;\n",
       "    }\n",
       "</style>\n",
       "<table border=\"1\" class=\"dataframe\">\n",
       "  <thead>\n",
       "    <tr style=\"text-align: right;\">\n",
       "      <th></th>\n",
       "      <th>CUR</th>\n",
       "      <th>RATE</th>\n",
       "      <th>NAME</th>\n",
       "    </tr>\n",
       "  </thead>\n",
       "  <tbody>\n",
       "    <tr>\n",
       "      <th>0</th>\n",
       "      <td>AUD</td>\n",
       "      <td>1.034516</td>\n",
       "      <td>Australian Dollar</td>\n",
       "    </tr>\n",
       "    <tr>\n",
       "      <th>1</th>\n",
       "      <td>CHF</td>\n",
       "      <td>1.023741</td>\n",
       "      <td>Swiss Franc</td>\n",
       "    </tr>\n",
       "    <tr>\n",
       "      <th>2</th>\n",
       "      <td>CNY</td>\n",
       "      <td>0.155018</td>\n",
       "      <td>Chinese Yuan</td>\n",
       "    </tr>\n",
       "    <tr>\n",
       "      <th>3</th>\n",
       "      <td>DKK</td>\n",
       "      <td>0.165144</td>\n",
       "      <td>Danish Krone</td>\n",
       "    </tr>\n",
       "    <tr>\n",
       "      <th>4</th>\n",
       "      <td>EUR</td>\n",
       "      <td>1.229654</td>\n",
       "      <td>Euro</td>\n",
       "    </tr>\n",
       "    <tr>\n",
       "      <th>5</th>\n",
       "      <td>GBP</td>\n",
       "      <td>1.555099</td>\n",
       "      <td>British Pound</td>\n",
       "    </tr>\n",
       "    <tr>\n",
       "      <th>6</th>\n",
       "      <td>HKD</td>\n",
       "      <td>0.127021</td>\n",
       "      <td>Hong Kong Dollar</td>\n",
       "    </tr>\n",
       "    <tr>\n",
       "      <th>7</th>\n",
       "      <td>INR</td>\n",
       "      <td>0.017764</td>\n",
       "      <td>Indian Rupee</td>\n",
       "    </tr>\n",
       "    <tr>\n",
       "      <th>8</th>\n",
       "      <td>JPY</td>\n",
       "      <td>0.012414</td>\n",
       "      <td>Japanese Yen</td>\n",
       "    </tr>\n",
       "    <tr>\n",
       "      <th>9</th>\n",
       "      <td>MXN</td>\n",
       "      <td>0.075185</td>\n",
       "      <td>Mexican Peso</td>\n",
       "    </tr>\n",
       "    <tr>\n",
       "      <th>10</th>\n",
       "      <td>MYR</td>\n",
       "      <td>0.314541</td>\n",
       "      <td>Malaysian Ringgit</td>\n",
       "    </tr>\n",
       "    <tr>\n",
       "      <th>11</th>\n",
       "      <td>NOK</td>\n",
       "      <td>0.167706</td>\n",
       "      <td>Norwegian Krone</td>\n",
       "    </tr>\n",
       "    <tr>\n",
       "      <th>12</th>\n",
       "      <td>NZD</td>\n",
       "      <td>0.800359</td>\n",
       "      <td>New Zealand Dollar</td>\n",
       "    </tr>\n",
       "    <tr>\n",
       "      <th>13</th>\n",
       "      <td>PHP</td>\n",
       "      <td>0.023323</td>\n",
       "      <td>Philippine Peso</td>\n",
       "    </tr>\n",
       "    <tr>\n",
       "      <th>14</th>\n",
       "      <td>SEK</td>\n",
       "      <td>0.148269</td>\n",
       "      <td>Swedish Krona</td>\n",
       "    </tr>\n",
       "    <tr>\n",
       "      <th>15</th>\n",
       "      <td>SGD</td>\n",
       "      <td>0.788871</td>\n",
       "      <td>Singapore Dollar</td>\n",
       "    </tr>\n",
       "    <tr>\n",
       "      <th>16</th>\n",
       "      <td>THB</td>\n",
       "      <td>0.031379</td>\n",
       "      <td>Thai Baht</td>\n",
       "    </tr>\n",
       "  </tbody>\n",
       "</table>\n",
       "</div>"
      ],
      "text/plain": [
       "    CUR      RATE                NAME\n",
       "0   AUD  1.034516   Australian Dollar\n",
       "1   CHF  1.023741         Swiss Franc\n",
       "2   CNY  0.155018        Chinese Yuan\n",
       "3   DKK  0.165144        Danish Krone\n",
       "4   EUR  1.229654                Euro\n",
       "5   GBP  1.555099       British Pound\n",
       "6   HKD  0.127021    Hong Kong Dollar\n",
       "7   INR  0.017764        Indian Rupee\n",
       "8   JPY  0.012414        Japanese Yen\n",
       "9   MXN  0.075185        Mexican Peso\n",
       "10  MYR  0.314541   Malaysian Ringgit\n",
       "11  NOK  0.167706     Norwegian Krone\n",
       "12  NZD  0.800359  New Zealand Dollar\n",
       "13  PHP  0.023323     Philippine Peso\n",
       "14  SEK  0.148269       Swedish Krona\n",
       "15  SGD  0.788871    Singapore Dollar\n",
       "16  THB  0.031379           Thai Baht"
      ]
     },
     "execution_count": 265,
     "metadata": {},
     "output_type": "execute_result"
    }
   ],
   "source": [
    "df = pd.read_csv('currencies.txt', delimiter = \"\\t\")\n",
    "df.set_axis(['CUR', 'RATE', 'NAME'], axis='columns', inplace=True)\n",
    "df"
   ]
  },
  {
   "cell_type": "code",
   "execution_count": 325,
   "id": "004e43ed",
   "metadata": {},
   "outputs": [],
   "source": [
    "def curconv(cur, amount):\n",
    "    query = df[(df['CUR'] == cur)]\n",
    "    converted = query['RATE'] * amount\n",
    "    return converted"
   ]
  },
  {
   "cell_type": "code",
   "execution_count": 326,
   "id": "d0b8cddd",
   "metadata": {},
   "outputs": [
    {
     "data": {
      "text/plain": [
       "8    1.241401\n",
       "Name: RATE, dtype: float64"
      ]
     },
     "execution_count": 326,
     "metadata": {},
     "output_type": "execute_result"
    }
   ],
   "source": [
    "curconv('JPY', 100)"
   ]
  },
  {
   "cell_type": "code",
   "execution_count": 327,
   "id": "7ee0a6fb",
   "metadata": {},
   "outputs": [
    {
     "ename": "SyntaxError",
     "evalue": "invalid character '‘' (U+2018) (Temp/ipykernel_47264/51415921.py, line 1)",
     "output_type": "error",
     "traceback": [
      "\u001b[1;36m  File \u001b[1;32m\"C:\\Users\\ashut\\AppData\\Local\\Temp/ipykernel_47264/51415921.py\"\u001b[1;36m, line \u001b[1;32m1\u001b[0m\n\u001b[1;33m    6 + ‘a’\u001b[0m\n\u001b[1;37m        ^\u001b[0m\n\u001b[1;31mSyntaxError\u001b[0m\u001b[1;31m:\u001b[0m invalid character '‘' (U+2018)\n"
     ]
    }
   ],
   "source": [
    "6 + ‘a’"
   ]
  },
  {
   "cell_type": "code",
   "execution_count": 328,
   "id": "14f18abf",
   "metadata": {},
   "outputs": [],
   "source": [
    "item_list = ['AB','AB','B','O','A','A','AB','O','AB','A','O','O','A','A','A','O','O','O','AB',\n",
    "             'O','A','A','A','A','A','AB','AB','A','AB','O','AB','O','A','O','O','O','AB','O',\n",
    "             'AB','AB','AB','A','A','O']"
   ]
  },
  {
   "cell_type": "code",
   "execution_count": 330,
   "id": "48e6e56d",
   "metadata": {},
   "outputs": [
    {
     "ename": "IndexError",
     "evalue": "list index out of range",
     "output_type": "error",
     "traceback": [
      "\u001b[1;31m---------------------------------------------------------------------------\u001b[0m",
      "\u001b[1;31mIndexError\u001b[0m                                Traceback (most recent call last)",
      "\u001b[1;32m~\\AppData\\Local\\Temp/ipykernel_47264/2551894150.py\u001b[0m in \u001b[0;36m<module>\u001b[1;34m\u001b[0m\n\u001b[1;32m----> 1\u001b[1;33m \u001b[0mitem_list\u001b[0m\u001b[1;33m[\u001b[0m\u001b[1;36m46\u001b[0m\u001b[1;33m]\u001b[0m\u001b[1;33m\u001b[0m\u001b[1;33m\u001b[0m\u001b[0m\n\u001b[0m",
      "\u001b[1;31mIndexError\u001b[0m: list index out of range"
     ]
    }
   ],
   "source": [
    "item_list[46]"
   ]
  },
  {
   "cell_type": "code",
   "execution_count": 334,
   "id": "2fb40c48",
   "metadata": {},
   "outputs": [
    {
     "ename": "ValueError",
     "evalue": "math domain error",
     "output_type": "error",
     "traceback": [
      "\u001b[1;31m---------------------------------------------------------------------------\u001b[0m",
      "\u001b[1;31mValueError\u001b[0m                                Traceback (most recent call last)",
      "\u001b[1;32m~\\AppData\\Local\\Temp/ipykernel_47264/1114391229.py\u001b[0m in \u001b[0;36m<module>\u001b[1;34m\u001b[0m\n\u001b[0;32m      1\u001b[0m \u001b[1;32mimport\u001b[0m \u001b[0mmath\u001b[0m\u001b[1;33m\u001b[0m\u001b[1;33m\u001b[0m\u001b[0m\n\u001b[1;32m----> 2\u001b[1;33m \u001b[0mmath\u001b[0m\u001b[1;33m.\u001b[0m\u001b[0msqrt\u001b[0m\u001b[1;33m(\u001b[0m\u001b[1;33m-\u001b[0m\u001b[1;36m1.0\u001b[0m\u001b[1;33m)\u001b[0m\u001b[1;33m\u001b[0m\u001b[1;33m\u001b[0m\u001b[0m\n\u001b[0m",
      "\u001b[1;31mValueError\u001b[0m: math domain error"
     ]
    }
   ],
   "source": [
    "import math\n",
    "math.sqrt(-1.0)"
   ]
  },
  {
   "cell_type": "code",
   "execution_count": 335,
   "id": "1be28049",
   "metadata": {},
   "outputs": [
    {
     "ename": "NameError",
     "evalue": "name 'x' is not defined",
     "output_type": "error",
     "traceback": [
      "\u001b[1;31m---------------------------------------------------------------------------\u001b[0m",
      "\u001b[1;31mNameError\u001b[0m                                 Traceback (most recent call last)",
      "\u001b[1;32m~\\AppData\\Local\\Temp/ipykernel_47264/4027362533.py\u001b[0m in \u001b[0;36m<module>\u001b[1;34m\u001b[0m\n\u001b[1;32m----> 1\u001b[1;33m \u001b[0mprint\u001b[0m\u001b[1;33m(\u001b[0m\u001b[0mx\u001b[0m\u001b[1;33m)\u001b[0m\u001b[1;33m\u001b[0m\u001b[1;33m\u001b[0m\u001b[0m\n\u001b[0m",
      "\u001b[1;31mNameError\u001b[0m: name 'x' is not defined"
     ]
    }
   ],
   "source": [
    " print(x)"
   ]
  },
  {
   "cell_type": "code",
   "execution_count": null,
   "id": "bafb8bac",
   "metadata": {},
   "outputs": [],
   "source": []
  }
 ],
 "metadata": {
  "kernelspec": {
   "display_name": "Python 3 (ipykernel)",
   "language": "python",
   "name": "python3"
  },
  "language_info": {
   "codemirror_mode": {
    "name": "ipython",
    "version": 3
   },
   "file_extension": ".py",
   "mimetype": "text/x-python",
   "name": "python",
   "nbconvert_exporter": "python",
   "pygments_lexer": "ipython3",
   "version": "3.9.7"
  }
 },
 "nbformat": 4,
 "nbformat_minor": 5
}
